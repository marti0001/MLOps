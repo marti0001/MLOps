{
 "cells": [
  {
   "cell_type": "code",
   "execution_count": 49,
   "id": "32f203dc-045b-4b26-98ad-084997f73691",
   "metadata": {},
   "outputs": [],
   "source": [
    "import mlflow\n",
    "import mlflow.keras\n",
    "from mlflow.types import Schema, TensorSpec\n",
    "from mlflow.models import ModelSignature\n",
    "\n",
    "import numpy as np\n",
    "import tensorflow as tf\n",
    "from tensorflow.keras.datasets import mnist\n",
    "from tensorflow.keras.models import Sequential\n",
    "from tensorflow.keras.layers import Conv2D, MaxPooling2D, Flatten, Dense, Dropout\n",
    "from tensorflow.keras.utils import to_categorical\n",
    "from tensorflow.keras.optimizers import Adam"
   ]
  },
  {
   "cell_type": "code",
   "execution_count": 11,
   "id": "d15104c6-83b4-47f8-a570-50a0247f0cf7",
   "metadata": {},
   "outputs": [
    {
     "name": "stderr",
     "output_type": "stream",
     "text": [
      "2025/04/16 16:32:09 INFO mlflow.tracking.fluent: Experiment with name 'MNIST-experiment' does not exist. Creating a new experiment.\n"
     ]
    }
   ],
   "source": [
    "mlflow.set_tracking_uri(uri=\"http://127.0.0.1:5000/\")\n",
    "\n",
    "mlflow.set_experiment('MNIST-experiment')\n",
    "\n",
    "mlflow.tensorflow.autolog()"
   ]
  },
  {
   "cell_type": "code",
   "execution_count": 13,
   "id": "3fefdbb5-fc1f-4a10-955b-e3cad8cd769e",
   "metadata": {},
   "outputs": [],
   "source": [
    "(X_train, y_train), (X_test, y_test) = mnist.load_data()"
   ]
  },
  {
   "cell_type": "code",
   "execution_count": 15,
   "id": "39f5510b-13d2-4d7a-8065-c0702201fb08",
   "metadata": {},
   "outputs": [],
   "source": [
    "X_train = X_train.reshape(-1,28,28,1).astype('float') / 255.0\n",
    "X_test = X_test.reshape(-1,28,28,1).astype('float') / 255.0\n"
   ]
  },
  {
   "cell_type": "code",
   "execution_count": 17,
   "id": "935c0924-040f-4bcc-b6ea-de2cd01fbdfe",
   "metadata": {},
   "outputs": [],
   "source": [
    "y_train = to_categorical(y_train, num_classes=10)\n",
    "y_test = to_categorical(y_test, num_classes=10)\n"
   ]
  },
  {
   "cell_type": "code",
   "execution_count": 19,
   "id": "9f522c80-590b-4097-bea1-130e412c0e21",
   "metadata": {},
   "outputs": [],
   "source": [
    "model = Sequential([\n",
    "        Conv2D(32, kernel_size=(3, 3), activation=\"relu\", input_shape=(28, 28, 1)),\n",
    "        MaxPooling2D(pool_size=(2, 2)),\n",
    "        Conv2D(64, kernel_size=(3, 3), activation=\"relu\"),\n",
    "        MaxPooling2D(pool_size=(2, 2)),\n",
    "        Flatten(),\n",
    "        Dense(128, activation=\"relu\"),\n",
    "        Dropout(0.5),\n",
    "        Dense(10, activation=\"softmax\")\n",
    "    ])"
   ]
  },
  {
   "cell_type": "code",
   "execution_count": 27,
   "id": "d56dd20e-691e-42a4-8e70-4086ba4d7555",
   "metadata": {},
   "outputs": [],
   "source": [
    "model.compile(optimizer=\"adam\", loss=\"categorical_crossentropy\", metrics=[\"accuracy\"])\n"
   ]
  },
  {
   "cell_type": "code",
   "execution_count": 51,
   "id": "b5abf884-01b7-4a4b-bae3-cafb39378408",
   "metadata": {},
   "outputs": [
    {
     "name": "stdout",
     "output_type": "stream",
     "text": [
      "Epoch 1/5\n",
      "469/469 [==============================] - 2s 3ms/step - loss: 0.0082 - accuracy: 0.9969 - val_loss: 0.0237 - val_accuracy: 0.9942\n",
      "Epoch 2/5\n",
      "469/469 [==============================] - 1s 3ms/step - loss: 0.0071 - accuracy: 0.9975 - val_loss: 0.0328 - val_accuracy: 0.9928\n",
      "Epoch 3/5\n",
      "469/469 [==============================] - 1s 3ms/step - loss: 0.0068 - accuracy: 0.9977 - val_loss: 0.0265 - val_accuracy: 0.9942\n",
      "Epoch 4/5\n",
      "469/469 [==============================] - 1s 3ms/step - loss: 0.0075 - accuracy: 0.9975 - val_loss: 0.0294 - val_accuracy: 0.9937\n",
      "Epoch 5/5\n",
      "469/469 [==============================] - 1s 3ms/step - loss: 0.0073 - accuracy: 0.9976 - val_loss: 0.0271 - val_accuracy: 0.9944\n",
      "1/1 [==============================] - 0s 12ms/step\n"
     ]
    },
    {
     "name": "stderr",
     "output_type": "stream",
     "text": [
      "WARNING:absl:Found untraced functions such as _jit_compiled_convolution_op, _jit_compiled_convolution_op while saving (showing 2 of 2). These functions will not be directly callable after loading.\n"
     ]
    },
    {
     "name": "stdout",
     "output_type": "stream",
     "text": [
      "INFO:tensorflow:Assets written to: C:\\Users\\MOlsz\\AppData\\Local\\Temp\\tmpguxlifnu\\model\\data\\model\\assets\n"
     ]
    },
    {
     "name": "stderr",
     "output_type": "stream",
     "text": [
      "INFO:tensorflow:Assets written to: C:\\Users\\MOlsz\\AppData\\Local\\Temp\\tmpguxlifnu\\model\\data\\model\\assets\n"
     ]
    },
    {
     "name": "stdout",
     "output_type": "stream",
     "text": [
      "313/313 [==============================] - 1s 2ms/step - loss: 0.0271 - accuracy: 0.9944\n",
      "Test loss: 0.0271\n",
      "Test accuracy: 0.9944\n",
      "🏃 View run CNN_MNIST at: http://127.0.0.1:5000/#/experiments/530024684035339485/runs/7eb44af33bb64786b11e3b26a674ccfd\n",
      "🧪 View experiment at: http://127.0.0.1:5000/#/experiments/530024684035339485\n",
      "Trening zakończony, eksperyment został zarejestrowany w MLflow.\n"
     ]
    }
   ],
   "source": [
    "# Parametry treningu\n",
    "batch_size = 128\n",
    "epochs = 5\n",
    "\n",
    "# Rozpoczęcie eksperymentu MLflow\n",
    "with mlflow.start_run(run_name='CNN_MNIST'):\n",
    "    # Inicjalizacja modelu\n",
    "\n",
    "    # Trenowanie modelu na danych treningowych\n",
    "    history = model.fit(\n",
    "        X_train, y_train,\n",
    "        batch_size=batch_size,\n",
    "        epochs=epochs,\n",
    "        validation_data=(X_test, y_test),\n",
    "        verbose=1\n",
    "    )\n",
    "\n",
    "    # Ewaluacja modelu\n",
    "    score = model.evaluate(X_test, y_test, verbose=1)\n",
    "    print(f\"Test loss: {score[0]:.4f}\")\n",
    "    print(f\"Test accuracy: {score[1]:.4f}\")\n",
    "\n",
    "    # Logowanie własnych parametrów (opcjonalnie)\n",
    "    mlflow.log_param(\"batch_size\", batch_size)\n",
    "    mlflow.log_param(\"epochs\", epochs)\n",
    "    mlflow.log_metric(\"final_loss\", score[0])\n",
    "    mlflow.log_metric(\"final_accuracy\", score[1])\n",
    "\n",
    "    input_schema = Schema([TensorSpec(np.dtype(np.float32), (-1, 28, 28, 3), \"input\")])\n",
    "    signature = ModelSignature(inputs=input_schema)\n",
    "    \n",
    "    model = mlflow.tensorflow.log_model(\n",
    "        model, \"model\",\n",
    "        keras_model_kwargs={\"save_format\": \"h5\"},\n",
    "        signature=signature\n",
    "    )\n",
    "\n",
    "\n",
    "print(\"Trening zakończony, eksperyment został zarejestrowany w MLflow.\")"
   ]
  },
  {
   "cell_type": "code",
   "execution_count": null,
   "id": "288f00f3-d5e5-4187-ae73-c2c9a4fd059c",
   "metadata": {},
   "outputs": [],
   "source": []
  }
 ],
 "metadata": {
  "kernelspec": {
   "display_name": "Python [conda env:tensorflow-gpu]",
   "language": "python",
   "name": "conda-env-tensorflow-gpu-py"
  },
  "language_info": {
   "codemirror_mode": {
    "name": "ipython",
    "version": 3
   },
   "file_extension": ".py",
   "mimetype": "text/x-python",
   "name": "python",
   "nbconvert_exporter": "python",
   "pygments_lexer": "ipython3",
   "version": "3.9.15"
  }
 },
 "nbformat": 4,
 "nbformat_minor": 5
}
