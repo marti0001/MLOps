{
 "cells": [
  {
   "cell_type": "code",
   "execution_count": 1,
   "id": "b79c3f29-dc92-47bf-a33e-d4eff32b18c2",
   "metadata": {},
   "outputs": [],
   "source": [
    "import mlflow\n",
    "from mlflow.models import infer_signature\n",
    "\n",
    "import pandas as pd\n",
    "from sklearn import datasets\n",
    "from sklearn.model_selection import train_test_split\n",
    "from sklearn.linear_model import LogisticRegression\n",
    "from sklearn.metrics import accuracy_score, precision_score, recall_score, f1_score\n"
   ]
  },
  {
   "cell_type": "code",
   "execution_count": 3,
   "id": "35840102-83ad-4e18-b7a2-f6d24cc8ebc4",
   "metadata": {},
   "outputs": [
    {
     "name": "stderr",
     "output_type": "stream",
     "text": [
      "2025/04/16 14:35:51 INFO mlflow.tracking.fluent: Experiment with name 'Iris-experiment' does not exist. Creating a new experiment.\n"
     ]
    },
    {
     "data": {
      "text/plain": [
       "<Experiment: artifact_location='mlflow-artifacts:/788788402955600659', creation_time=1744806951678, experiment_id='788788402955600659', last_update_time=1744806951678, lifecycle_stage='active', name='Iris-experiment', tags={}>"
      ]
     },
     "execution_count": 3,
     "metadata": {},
     "output_type": "execute_result"
    }
   ],
   "source": [
    "mlflow.set_tracking_uri(uri=\"http://127.0.0.1:5000/\")\n",
    "\n",
    "mlflow.set_experiment('Iris-experiment')"
   ]
  },
  {
   "cell_type": "code",
   "execution_count": 15,
   "id": "1ed94ff5-a6c0-442f-b7eb-116e5a17dd0f",
   "metadata": {},
   "outputs": [
    {
     "name": "stderr",
     "output_type": "stream",
     "text": [
      "C:\\Users\\MOlsz\\anaconda3\\envs\\tensorflow-gpu\\lib\\site-packages\\sklearn\\linear_model\\_logistic.py:1247: FutureWarning: 'multi_class' was deprecated in version 1.5 and will be removed in 1.7. From then on, it will always use 'multinomial'. Leave it to its default value to avoid this warning.\n",
      "  warnings.warn(\n"
     ]
    },
    {
     "name": "stdout",
     "output_type": "stream",
     "text": [
      "Accuracy:  1.0\n"
     ]
    },
    {
     "data": {
      "application/vnd.jupyter.widget-view+json": {
       "model_id": "73adfa6399b64e79920c330137cd5021",
       "version_major": 2,
       "version_minor": 0
      },
      "text/plain": [
       "Downloading artifacts:   0%|          | 0/7 [00:00<?, ?it/s]"
      ]
     },
     "metadata": {},
     "output_type": "display_data"
    },
    {
     "name": "stderr",
     "output_type": "stream",
     "text": [
      "Successfully registered model 'LogisticRegression'.\n",
      "2025/04/16 14:58:49 INFO mlflow.store.model_registry.abstract_store: Waiting up to 300 seconds for model version to finish creation. Model name: LogisticRegression, version 1\n"
     ]
    },
    {
     "name": "stdout",
     "output_type": "stream",
     "text": [
      "🏃 View run Iris-LogisticRegression at: http://127.0.0.1:5000/#/experiments/788788402955600659/runs/f4f7f847a5e146acbe873637d6b2d070\n",
      "🧪 View experiment at: http://127.0.0.1:5000/#/experiments/788788402955600659\n"
     ]
    },
    {
     "name": "stderr",
     "output_type": "stream",
     "text": [
      "Created version '1' of model 'LogisticRegression'.\n"
     ]
    }
   ],
   "source": [
    "\n",
    "with mlflow.start_run(run_name= 'Iris-LogisticRegression'):\n",
    "            \n",
    "    # Load the Iris dataset\n",
    "    X, y = datasets.load_iris(return_X_y=True)\n",
    "    \n",
    "    # Split the data into training and test sets\n",
    "    X_train, X_test, y_train, y_test = train_test_split(\n",
    "        X, y, test_size=0.2, random_state=42\n",
    "    )\n",
    "    \n",
    "    # Define the model hyperparameters\n",
    "    params = {\n",
    "        \"solver\": \"lbfgs\",\n",
    "        \"max_iter\": 1000,\n",
    "        \"multi_class\": \"auto\",\n",
    "        \"random_state\": 8888,\n",
    "    }\n",
    "    mlflow.log_params(params)\n",
    "    \n",
    "    # Train the model\n",
    "    lr = LogisticRegression(**params)\n",
    "    lr.fit(X_train, y_train)\n",
    "    \n",
    "    # Predict on the test set\n",
    "    y_pred = lr.predict(X_test)\n",
    "    \n",
    "    # Calculate metrics\n",
    "    accuracy = accuracy_score(y_test, y_pred)\n",
    "    mlflow.log_metric('accuracy', accuracy)\n",
    "    print('Accuracy: ', accuracy)\n",
    "\n",
    "    signature = infer_signature(X_train,lr.predict(X_train))\n",
    "    \n",
    "    model = mlflow.sklearn.log_model(\n",
    "        sk_model=lr,\n",
    "        artifact_path='iris_model',\n",
    "        signature=signature, \n",
    "        input_example= X_train,\n",
    "        registered_model_name='LogisticRegression'\n",
    "    )"
   ]
  },
  {
   "cell_type": "code",
   "execution_count": null,
   "id": "21a88629-b472-4be9-a20e-823e7439cb3c",
   "metadata": {},
   "outputs": [],
   "source": []
  }
 ],
 "metadata": {
  "kernelspec": {
   "display_name": "Python 3.9 (tensorflow)",
   "language": "python",
   "name": "tensorflow"
  },
  "language_info": {
   "codemirror_mode": {
    "name": "ipython",
    "version": 3
   },
   "file_extension": ".py",
   "mimetype": "text/x-python",
   "name": "python",
   "nbconvert_exporter": "python",
   "pygments_lexer": "ipython3",
   "version": "3.9.15"
  }
 },
 "nbformat": 4,
 "nbformat_minor": 5
}
